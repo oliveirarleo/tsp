{
 "cells": [
  {
   "cell_type": "markdown",
   "metadata": {},
   "source": [
    "# Naive Bayes (the easy way)"
   ]
  },
  {
   "cell_type": "markdown",
   "metadata": {},
   "source": [
    "We'll cheat by using sklearn.naive_bayes to train a spam classifier! Most of the code is just loading our training data into a pandas DataFrame that we can play with:"
   ]
  },
  {
   "cell_type": "code",
   "execution_count": 3,
   "metadata": {},
   "outputs": [],
   "source": [
    "import os\n",
    "import io\n",
    "import numpy\n",
    "from pandas import DataFrame\n",
    "from sklearn.feature_extraction.text import CountVectorizer\n",
    "from sklearn.naive_bayes import MultinomialNB\n",
    "\n",
    "def readFiles(path):\n",
    "    for root, dirnames, filenames in os.walk(path):\n",
    "        for filename in filenames:\n",
    "            path = os.path.join(root, filename)\n",
    "\n",
    "            inBody = False\n",
    "            lines = []\n",
    "            f = io.open(path, 'r', encoding='latin1')\n",
    "            for line in f:\n",
    "                if inBody:\n",
    "                    lines.append(line)\n",
    "                elif line == '\\n':\n",
    "                    inBody = True\n",
    "            f.close()\n",
    "            message = '\\n'.join(lines)\n",
    "            yield path, message\n",
    "\n",
    "\n",
    "def dataFrameFromDirectory(path, classification):\n",
    "    rows = []\n",
    "    index = []\n",
    "    for filename, message in readFiles(path):\n",
    "        rows.append({'message': message, 'class': classification})\n",
    "        index.append(filename)\n",
    "\n",
    "    return DataFrame(rows, index=index)\n",
    "\n",
    "data = DataFrame({'message': [], 'class': []})\n",
    "\n",
    "data = data.append(dataFrameFromDirectory('/Users/leonardo/tsp/ml/hands_n/DataScience-Python3/emails/spam', 'spam'))\n",
    "data = data.append(dataFrameFromDirectory('/Users/leonardo/tsp/ml/hands_n/DataScience-Python3/emails/ham', 'ham'))\n"
   ]
  },
  {
   "cell_type": "markdown",
   "metadata": {},
   "source": [
    "Let's have a look at that DataFrame:"
   ]
  },
  {
   "cell_type": "code",
   "execution_count": 5,
   "metadata": {},
   "outputs": [
    {
     "data": {
      "text/html": [
       "<div>\n",
       "<style scoped>\n",
       "    .dataframe tbody tr th:only-of-type {\n",
       "        vertical-align: middle;\n",
       "    }\n",
       "\n",
       "    .dataframe tbody tr th {\n",
       "        vertical-align: top;\n",
       "    }\n",
       "\n",
       "    .dataframe thead th {\n",
       "        text-align: right;\n",
       "    }\n",
       "</style>\n",
       "<table border=\"1\" class=\"dataframe\">\n",
       "  <thead>\n",
       "    <tr style=\"text-align: right;\">\n",
       "      <th></th>\n",
       "      <th>class</th>\n",
       "      <th>message</th>\n",
       "    </tr>\n",
       "  </thead>\n",
       "  <tbody>\n",
       "    <tr>\n",
       "      <th>/Users/leonardo/tsp/ml/hands_n/DataScience-Python3/emails/ham/01037.6b42b5f3d3d9e6293bf24af66b250655</th>\n",
       "      <td>ham</td>\n",
       "      <td>On Thu, 2002-08-29 at 00:02, Ville Skyttä wrot...</td>\n",
       "    </tr>\n",
       "    <tr>\n",
       "      <th>/Users/leonardo/tsp/ml/hands_n/DataScience-Python3/emails/ham/02056.7bc7703e40a24dda665d4ce7b0cba710</th>\n",
       "      <td>ham</td>\n",
       "      <td>URL: http://www.newsisfree.com/click/-6,835599...</td>\n",
       "    </tr>\n",
       "    <tr>\n",
       "      <th>/Users/leonardo/tsp/ml/hands_n/DataScience-Python3/emails/ham/01782.278f53b8f65fcd422cb26c5bbe74599d</th>\n",
       "      <td>ham</td>\n",
       "      <td>use Perl Daily Newsletter\\n\\n\\n\\nIn this issue...</td>\n",
       "    </tr>\n",
       "    <tr>\n",
       "      <th>/Users/leonardo/tsp/ml/hands_n/DataScience-Python3/emails/ham/00043.d2673a72d215cbdd747dc98cde41fbd2</th>\n",
       "      <td>ham</td>\n",
       "      <td>&lt; &gt;\\n\\n&gt; I downloaded a driver from the nVidia...</td>\n",
       "    </tr>\n",
       "    <tr>\n",
       "      <th>/Users/leonardo/tsp/ml/hands_n/DataScience-Python3/emails/ham/00135.bd3bc1c036eab89c9c50cff40958c939</th>\n",
       "      <td>ham</td>\n",
       "      <td>&gt;That Goddess Chick wrote:\\n\\n&gt;&gt;\\n\\n&gt;&gt;  &gt;Thank...</td>\n",
       "    </tr>\n",
       "  </tbody>\n",
       "</table>\n",
       "</div>"
      ],
      "text/plain": [
       "                                                   class  \\\n",
       "/Users/leonardo/tsp/ml/hands_n/DataScience-Pyth...   ham   \n",
       "/Users/leonardo/tsp/ml/hands_n/DataScience-Pyth...   ham   \n",
       "/Users/leonardo/tsp/ml/hands_n/DataScience-Pyth...   ham   \n",
       "/Users/leonardo/tsp/ml/hands_n/DataScience-Pyth...   ham   \n",
       "/Users/leonardo/tsp/ml/hands_n/DataScience-Pyth...   ham   \n",
       "\n",
       "                                                                                              message  \n",
       "/Users/leonardo/tsp/ml/hands_n/DataScience-Pyth...  On Thu, 2002-08-29 at 00:02, Ville Skyttä wrot...  \n",
       "/Users/leonardo/tsp/ml/hands_n/DataScience-Pyth...  URL: http://www.newsisfree.com/click/-6,835599...  \n",
       "/Users/leonardo/tsp/ml/hands_n/DataScience-Pyth...  use Perl Daily Newsletter\\n\\n\\n\\nIn this issue...  \n",
       "/Users/leonardo/tsp/ml/hands_n/DataScience-Pyth...  < >\\n\\n> I downloaded a driver from the nVidia...  \n",
       "/Users/leonardo/tsp/ml/hands_n/DataScience-Pyth...  >That Goddess Chick wrote:\\n\\n>>\\n\\n>>  >Thank...  "
      ]
     },
     "execution_count": 5,
     "metadata": {},
     "output_type": "execute_result"
    }
   ],
   "source": [
    "data.tail()"
   ]
  },
  {
   "cell_type": "markdown",
   "metadata": {},
   "source": [
    "Now we will use a CountVectorizer to split up each message into its list of words, and throw that into a MultinomialNB classifier. Call fit() and we've got a trained spam filter ready to go! It's just that easy."
   ]
  },
  {
   "cell_type": "code",
   "execution_count": 6,
   "metadata": {},
   "outputs": [
    {
     "data": {
      "text/plain": [
       "MultinomialNB(alpha=1.0, class_prior=None, fit_prior=True)"
      ]
     },
     "execution_count": 6,
     "metadata": {},
     "output_type": "execute_result"
    }
   ],
   "source": [
    "vectorizer = CountVectorizer()\n",
    "counts = vectorizer.fit_transform(data['message'].values)\n",
    "\n",
    "classifier = MultinomialNB()\n",
    "targets = data['class'].values\n",
    "classifier.fit(counts, targets)"
   ]
  },
  {
   "cell_type": "markdown",
   "metadata": {},
   "source": [
    "Let's try it out:"
   ]
  },
  {
   "cell_type": "code",
   "execution_count": 8,
   "metadata": {},
   "outputs": [
    {
     "data": {
      "text/plain": [
       "array(['spam', 'ham'], dtype='<U4')"
      ]
     },
     "execution_count": 8,
     "metadata": {},
     "output_type": "execute_result"
    }
   ],
   "source": [
    "examples = ['Free Viagra now!!!', \"Hi Bob, how about a game of golf tomorrow?\"]\n",
    "example_counts = vectorizer.transform(examples)\n",
    "predictions = classifier.predict(example_counts)\n",
    "predictions"
   ]
  },
  {
   "cell_type": "markdown",
   "metadata": {},
   "source": [
    "## Activity"
   ]
  },
  {
   "cell_type": "markdown",
   "metadata": {},
   "source": [
    "Our data set is small, so our spam classifier isn't actually very good. Try running some different test emails through it and see if you get the results you expect.\n",
    "\n",
    "If you really want to challenge yourself, try applying train/test to this spam classifier - see how well it can predict some subset of the ham and spam emails."
   ]
  },
  {
   "cell_type": "code",
   "execution_count": 10,
   "metadata": {},
   "outputs": [
    {
     "name": "stdout",
     "output_type": "stream",
     "text": [
      "2250 750\n"
     ]
    }
   ],
   "source": [
    "from sklearn.model_selection import train_test_split\n",
    "\n",
    "train, test = train_test_split(data)\n",
    "print(len(train), len(test))"
   ]
  },
  {
   "cell_type": "code",
   "execution_count": 20,
   "metadata": {},
   "outputs": [
    {
     "data": {
      "text/plain": [
       "MultinomialNB(alpha=1.0, class_prior=None, fit_prior=True)"
      ]
     },
     "execution_count": 20,
     "metadata": {},
     "output_type": "execute_result"
    }
   ],
   "source": [
    "vectorizer = CountVectorizer()\n",
    "counts = vectorizer.fit_transform(train['message'].values)\n",
    "\n",
    "classifier = MultinomialNB()\n",
    "targets = train['class'].values\n",
    "classifier.fit(counts, targets)"
   ]
  },
  {
   "cell_type": "code",
   "execution_count": 21,
   "metadata": {},
   "outputs": [
    {
     "data": {
      "text/plain": [
       "0.9742222222222222"
      ]
     },
     "execution_count": 21,
     "metadata": {},
     "output_type": "execute_result"
    }
   ],
   "source": [
    "classifier.score(X=vectorizer.transform(train[\"message\"]), y=train[\"class\"])"
   ]
  },
  {
   "cell_type": "code",
   "execution_count": 22,
   "metadata": {},
   "outputs": [
    {
     "data": {
      "text/plain": [
       "0.9546666666666667"
      ]
     },
     "execution_count": 22,
     "metadata": {},
     "output_type": "execute_result"
    }
   ],
   "source": [
    "classifier.score(X=vectorizer.transform(test[\"message\"]), y=test[\"class\"])"
   ]
  }
 ],
 "metadata": {
  "kernelspec": {
   "display_name": "Python 3",
   "language": "python",
   "name": "python3"
  },
  "language_info": {
   "codemirror_mode": {
    "name": "ipython",
    "version": 3
   },
   "file_extension": ".py",
   "mimetype": "text/x-python",
   "name": "python",
   "nbconvert_exporter": "python",
   "pygments_lexer": "ipython3",
   "version": "3.7.1"
  }
 },
 "nbformat": 4,
 "nbformat_minor": 1
}
